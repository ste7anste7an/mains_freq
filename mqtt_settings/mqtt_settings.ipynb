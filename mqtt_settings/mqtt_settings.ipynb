{
 "cells": [
  {
   "cell_type": "code",
   "execution_count": null,
   "id": "70989f75",
   "metadata": {},
   "outputs": [],
   "source": [
    "import paho.mqtt.client as mqtt #import the client1\n",
    "import ssl\n",
    "import certifi\n",
    "broker_address=\"<IP address>\" \n",
    "#broker_address=\"iot.eclipse.org\" #use external broker\n",
    "client = mqtt.Client(\"P1\") #create new instance\n",
    "client.username_pw_set(\"username\", \"password\")\n",
    "\n",
    "client.tls_set(certifi.where(),cert_reqs=ssl.CERT_NONE) #, tls_version=ssl.PROTOCOL_TLSv1_2)\n",
    "client.tls_insecure_set(True)\n",
    "client.connect(broker_address, 9883, 60)\n"
   ]
  },
  {
   "cell_type": "code",
   "execution_count": null,
   "id": "965aedcf",
   "metadata": {},
   "outputs": [],
   "source": [
    "import time\n",
    "\n",
    "def on_message(client, userdata, message):\n",
    "    print(f\"topic: {message.topic} received message: {str(message.payload.decode('utf-8'))}\" )\n",
    "    \n",
    "client.loop_start()\n",
    "\n",
    "client.subscribe(\"tele/#\")\n",
    "client.on_message=on_message \n",
    "client.publish(\"cmnd/tasmota_MAC/SSerialSend\",b\"get a_min\")\n",
    "time.sleep(10)\n",
    "client.loop_stop()"
   ]
  },
  {
   "cell_type": "code",
   "execution_count": null,
   "id": "d7f18af3",
   "metadata": {},
   "outputs": [],
   "source": [
    "client.publish(\"cmnd/tasmota_MAC/SSerialSend\",b\"get us\")"
   ]
  },
  {
   "cell_type": "code",
   "execution_count": null,
   "id": "b6ad8939",
   "metadata": {},
   "outputs": [],
   "source": [
    "m.topic"
   ]
  },
  {
   "cell_type": "code",
   "execution_count": null,
   "id": "062813fb",
   "metadata": {},
   "outputs": [],
   "source": [
    "import matplotlib.pyplot as plt\n",
    "import numpy as np\n",
    "\n",
    "# 100 linearly spaced numbers\n",
    "x = np.linspace(1.8*np.pi,4.2*np.pi,100)\n",
    "\n",
    "# the function, which is y = sin(x) here\n",
    "y = 200*(np.sin(x))+500\n",
    "\n",
    "# setting the axes at the centre\n",
    "fig = plt.figure()\n",
    "ax = fig.add_subplot(1, 1, 1)\n",
    "#ax.spines['left'].set_position('center')\n",
    "#ax.spines['bottom'].set_position('center')\n",
    "ax.spines['right'].set_color('none')\n",
    "ax.spines['top'].set_color('none')\n",
    "ax.xaxis.set_ticks_position('bottom')\n",
    "ax.yaxis.set_ticks_position('left')\n",
    "\n",
    "# plot the function\n",
    "plt.plot(x,y, 'b-')\n",
    "\n",
    "# show the plot\n",
    "plt.show()"
   ]
  },
  {
   "cell_type": "code",
   "execution_count": null,
   "id": "bd13928e",
   "metadata": {},
   "outputs": [],
   "source": []
  }
 ],
 "metadata": {
  "kernelspec": {
   "display_name": "Python 3 (ipykernel)",
   "language": "python",
   "name": "python3"
  },
  "language_info": {
   "codemirror_mode": {
    "name": "ipython",
    "version": 3
   },
   "file_extension": ".py",
   "mimetype": "text/x-python",
   "name": "python",
   "nbconvert_exporter": "python",
   "pygments_lexer": "ipython3",
   "version": "3.11.1"
  }
 },
 "nbformat": 4,
 "nbformat_minor": 5
}
